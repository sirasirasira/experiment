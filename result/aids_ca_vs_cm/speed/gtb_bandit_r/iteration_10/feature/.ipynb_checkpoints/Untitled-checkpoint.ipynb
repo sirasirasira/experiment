{
 "cells": [
  {
   "cell_type": "code",
   "execution_count": 1,
   "metadata": {},
   "outputs": [],
   "source": [
    "import numpy as np\n",
    "import pandas  as pd"
   ]
  },
  {
   "cell_type": "code",
   "execution_count": 55,
   "metadata": {},
   "outputs": [],
   "source": [
    "len_list = np.array([])\n",
    "for idx in range(10):\n",
    "    path = f\"./feature_{idx}\"\n",
    "    with open(path) as f:\n",
    "        for line in f:\n",
    "            len_list = np.append(len_list, (len(line.split())-1) / 2)\n",
    "len_df = pd.Series(len_list).astype(int)"
   ]
  },
  {
   "cell_type": "code",
   "execution_count": 61,
   "metadata": {},
   "outputs": [],
   "source": [
    "len_df.value_counts(normalize=True).reindex(range(1, 11)).fillna(0).to_csv(\"feature_rate.dat\", index=False)"
   ]
  },
  {
   "cell_type": "code",
   "execution_count": null,
   "metadata": {},
   "outputs": [],
   "source": []
  }
 ],
 "metadata": {
  "kernelspec": {
   "display_name": "Python 3",
   "language": "python",
   "name": "python3"
  },
  "language_info": {
   "codemirror_mode": {
    "name": "ipython",
    "version": 3
   },
   "file_extension": ".py",
   "mimetype": "text/x-python",
   "name": "python",
   "nbconvert_exporter": "python",
   "pygments_lexer": "ipython3",
   "version": "3.6.1"
  }
 },
 "nbformat": 4,
 "nbformat_minor": 2
}
