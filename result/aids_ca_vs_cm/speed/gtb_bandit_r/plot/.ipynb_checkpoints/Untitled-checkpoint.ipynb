{
 "cells": [
  {
   "cell_type": "code",
   "execution_count": 22,
   "metadata": {},
   "outputs": [],
   "source": [
    "import pandas as pd\n",
    "from matplotlib import pyplot as plt"
   ]
  },
  {
   "cell_type": "code",
   "execution_count": 29,
   "metadata": {},
   "outputs": [
    {
     "data": {
      "text/html": [
       "<div>\n",
       "<style scoped>\n",
       "    .dataframe tbody tr th:only-of-type {\n",
       "        vertical-align: middle;\n",
       "    }\n",
       "\n",
       "    .dataframe tbody tr th {\n",
       "        vertical-align: top;\n",
       "    }\n",
       "\n",
       "    .dataframe thead th {\n",
       "        text-align: right;\n",
       "    }\n",
       "</style>\n",
       "<table border=\"1\" class=\"dataframe\">\n",
       "  <thead>\n",
       "    <tr style=\"text-align: right;\">\n",
       "      <th></th>\n",
       "      <th>1</th>\n",
       "      <th>2</th>\n",
       "      <th>3</th>\n",
       "      <th>4</th>\n",
       "      <th>5</th>\n",
       "      <th>6</th>\n",
       "      <th>7</th>\n",
       "      <th>8</th>\n",
       "      <th>9</th>\n",
       "      <th>10</th>\n",
       "    </tr>\n",
       "  </thead>\n",
       "  <tbody>\n",
       "    <tr>\n",
       "      <th>10</th>\n",
       "      <td>0.973171</td>\n",
       "      <td>0.026829</td>\n",
       "      <td>0.000000</td>\n",
       "      <td>0.000000</td>\n",
       "      <td>0.000000</td>\n",
       "      <td>0.000000</td>\n",
       "      <td>0.000000</td>\n",
       "      <td>0.000000</td>\n",
       "      <td>0.000000</td>\n",
       "      <td>0.000000</td>\n",
       "    </tr>\n",
       "    <tr>\n",
       "      <th>100</th>\n",
       "      <td>0.165204</td>\n",
       "      <td>0.313647</td>\n",
       "      <td>0.298484</td>\n",
       "      <td>0.114924</td>\n",
       "      <td>0.049880</td>\n",
       "      <td>0.031524</td>\n",
       "      <td>0.015164</td>\n",
       "      <td>0.007183</td>\n",
       "      <td>0.003591</td>\n",
       "      <td>0.000399</td>\n",
       "    </tr>\n",
       "    <tr>\n",
       "      <th>200</th>\n",
       "      <td>0.094139</td>\n",
       "      <td>0.194655</td>\n",
       "      <td>0.314910</td>\n",
       "      <td>0.197996</td>\n",
       "      <td>0.098087</td>\n",
       "      <td>0.037959</td>\n",
       "      <td>0.030064</td>\n",
       "      <td>0.014880</td>\n",
       "      <td>0.009718</td>\n",
       "      <td>0.007592</td>\n",
       "    </tr>\n",
       "    <tr>\n",
       "      <th>300</th>\n",
       "      <td>0.080320</td>\n",
       "      <td>0.128071</td>\n",
       "      <td>0.307480</td>\n",
       "      <td>0.233232</td>\n",
       "      <td>0.115374</td>\n",
       "      <td>0.058515</td>\n",
       "      <td>0.034226</td>\n",
       "      <td>0.021529</td>\n",
       "      <td>0.012421</td>\n",
       "      <td>0.008832</td>\n",
       "    </tr>\n",
       "    <tr>\n",
       "      <th>400</th>\n",
       "      <td>0.079131</td>\n",
       "      <td>0.103004</td>\n",
       "      <td>0.274142</td>\n",
       "      <td>0.234174</td>\n",
       "      <td>0.138412</td>\n",
       "      <td>0.074034</td>\n",
       "      <td>0.037554</td>\n",
       "      <td>0.026288</td>\n",
       "      <td>0.019045</td>\n",
       "      <td>0.014217</td>\n",
       "    </tr>\n",
       "    <tr>\n",
       "      <th>500</th>\n",
       "      <td>0.075462</td>\n",
       "      <td>0.083008</td>\n",
       "      <td>0.228467</td>\n",
       "      <td>0.262555</td>\n",
       "      <td>0.152225</td>\n",
       "      <td>0.079365</td>\n",
       "      <td>0.051782</td>\n",
       "      <td>0.026542</td>\n",
       "      <td>0.024720</td>\n",
       "      <td>0.015873</td>\n",
       "    </tr>\n",
       "    <tr>\n",
       "      <th>naive GTB</th>\n",
       "      <td>0.017115</td>\n",
       "      <td>0.007335</td>\n",
       "      <td>0.019560</td>\n",
       "      <td>0.024450</td>\n",
       "      <td>0.044010</td>\n",
       "      <td>0.026895</td>\n",
       "      <td>0.034230</td>\n",
       "      <td>0.048900</td>\n",
       "      <td>0.073350</td>\n",
       "      <td>0.704156</td>\n",
       "    </tr>\n",
       "  </tbody>\n",
       "</table>\n",
       "</div>"
      ],
      "text/plain": [
       "                 1         2         3         4         5         6   \\\n",
       "10         0.973171  0.026829  0.000000  0.000000  0.000000  0.000000   \n",
       "100        0.165204  0.313647  0.298484  0.114924  0.049880  0.031524   \n",
       "200        0.094139  0.194655  0.314910  0.197996  0.098087  0.037959   \n",
       "300        0.080320  0.128071  0.307480  0.233232  0.115374  0.058515   \n",
       "400        0.079131  0.103004  0.274142  0.234174  0.138412  0.074034   \n",
       "500        0.075462  0.083008  0.228467  0.262555  0.152225  0.079365   \n",
       "naive GTB  0.017115  0.007335  0.019560  0.024450  0.044010  0.026895   \n",
       "\n",
       "                 7         8         9         10  \n",
       "10         0.000000  0.000000  0.000000  0.000000  \n",
       "100        0.015164  0.007183  0.003591  0.000399  \n",
       "200        0.030064  0.014880  0.009718  0.007592  \n",
       "300        0.034226  0.021529  0.012421  0.008832  \n",
       "400        0.037554  0.026288  0.019045  0.014217  \n",
       "500        0.051782  0.026542  0.024720  0.015873  \n",
       "naive GTB  0.034230  0.048900  0.073350  0.704156  "
      ]
     },
     "execution_count": 29,
     "metadata": {},
     "output_type": "execute_result"
    }
   ],
   "source": [
    "data_df = pd.read_csv(\"feature/feature_rate_summary.dat\", sep=\"\\t\")\n",
    "data_df = data_df.rename(columns={'naive': 'naive GTB'}).T\n",
    "data_df"
   ]
  },
  {
   "cell_type": "code",
   "execution_count": 50,
   "metadata": {},
   "outputs": [
    {
     "data": {
      "image/png": "[encoded data removed]",
      "text/plain": [
       "<Figure size 432x288 with 1 Axes>"
      ]
     },
     "metadata": {
      "needs_background": "light"
     },
     "output_type": "display_data"
    }
   ],
   "source": [
    "data_df.plot.bar(stacked=True);\n",
    "plt.xlabel('#monte carlo simurations')\n",
    "plt.ylabel('feature size rate')\n",
    "plt.xticks(rotation=0)\n",
    "plt.legend(bbox_to_anchor=(1.05, 1), loc='upper left',fontsize=10,title='feature size')\n",
    "plt.savefig(\"feature/feature_rate.eps\", bbox_inches=\"tight\")"
   ]
  },
  {
   "cell_type": "code",
   "execution_count": null,
   "metadata": {},
   "outputs": [],
   "source": []
  }
 ],
 "metadata": {
  "kernelspec": {
   "display_name": "Python 3",
   "language": "python",
   "name": "python3"
  },
  "language_info": {
   "codemirror_mode": {
    "name": "ipython",
    "version": 3
   },
   "file_extension": ".py",
   "mimetype": "text/x-python",
   "name": "python",
   "nbconvert_exporter": "python",
   "pygments_lexer": "ipython3",
   "version": "3.6.1"
  }
 },
 "nbformat": 4,
 "nbformat_minor": 2
}
